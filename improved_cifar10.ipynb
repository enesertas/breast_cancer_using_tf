{
  "nbformat": 4,
  "nbformat_minor": 0,
  "metadata": {
    "colab": {
      "provenance": [],
      "authorship_tag": "ABX9TyPlejC3JTrjWO7sOea1RXHm",
      "include_colab_link": true
    },
    "kernelspec": {
      "name": "python3",
      "display_name": "Python 3"
    },
    "language_info": {
      "name": "python"
    },
    "accelerator": "GPU"
  },
  "cells": [
    {
      "cell_type": "markdown",
      "metadata": {
        "id": "view-in-github",
        "colab_type": "text"
      },
      "source": [
        "<a href=\"https://colab.research.google.com/github/enesertas/computer_vision_step_by_step/blob/main/improved_cifar10.ipynb\" target=\"_parent\"><img src=\"https://colab.research.google.com/assets/colab-badge.svg\" alt=\"Open In Colab\"/></a>"
      ]
    },
    {
      "cell_type": "code",
      "execution_count": 1,
      "metadata": {
        "id": "IZLCEpm7l9cr"
      },
      "outputs": [],
      "source": [
        "from tensorflow.keras.datasets import cifar10"
      ]
    },
    {
      "cell_type": "code",
      "source": [
        "(X_train, y_train), (X_test, y_test) = cifar10.load_data()"
      ],
      "metadata": {
        "colab": {
          "base_uri": "https://localhost:8080/"
        },
        "id": "g8Pyc9OKmElA",
        "outputId": "66d1fce4-42c7-4fa2-f5ca-9b6aa9cb09e7"
      },
      "execution_count": 2,
      "outputs": [
        {
          "output_type": "stream",
          "name": "stdout",
          "text": [
            "Downloading data from https://www.cs.toronto.edu/~kriz/cifar-10-python.tar.gz\n",
            "170500096/170498071 [==============================] - 14s 0us/step\n",
            "170508288/170498071 [==============================] - 14s 0us/step\n"
          ]
        }
      ]
    },
    {
      "cell_type": "code",
      "source": [
        "import seaborn as sns\n",
        "import numpy as np\n",
        "import pandas as pd\n",
        "import matplotlib.pyplot as plt"
      ],
      "metadata": {
        "id": "qB_TRHFxmPqb"
      },
      "execution_count": 3,
      "outputs": []
    },
    {
      "cell_type": "code",
      "source": [
        "plt.imshow(X_train[1])"
      ],
      "metadata": {
        "colab": {
          "base_uri": "https://localhost:8080/",
          "height": 284
        },
        "id": "RyuV2Lrymamj",
        "outputId": "edeb78c5-4a4b-42e3-dc2c-d6ae55f2ae4a"
      },
      "execution_count": 4,
      "outputs": [
        {
          "output_type": "execute_result",
          "data": {
            "text/plain": [
              "<matplotlib.image.AxesImage at 0x7fbf7d7c9210>"
            ]
          },
          "metadata": {},
          "execution_count": 4
        },
        {
          "output_type": "display_data",
          "data": {
            "text/plain": [
              "<Figure size 432x288 with 1 Axes>"
            ],
            "image/png": "[encoded data removed]"
          },
          "metadata": {
            "needs_background": "light"
          }
        }
      ]
    },
    {
      "cell_type": "markdown",
      "source": [
        "We need to add Data Augmentation and Batch Normalization to improve our results."
      ],
      "metadata": {
        "id": "hBXsLvwfmjmK"
      }
    },
    {
      "cell_type": "code",
      "source": [
        "from tensorflow.keras.preprocessing.image import ImageDataGenerator"
      ],
      "metadata": {
        "id": "Df4II2P3mxhN"
      },
      "execution_count": 5,
      "outputs": []
    },
    {
      "cell_type": "code",
      "source": [
        "X_train = X_train/255\n",
        "X_test = X_test/255\n",
        "y_test = y_test.flatten()\n",
        "y_train = y_train.flatten()"
      ],
      "metadata": {
        "id": "6w2JGk_5ueeT"
      },
      "execution_count": 6,
      "outputs": []
    },
    {
      "cell_type": "code",
      "source": [
        "batch_size=32\n",
        "steps_per_epoch = X_train.shape[0] // batch_size\n",
        "image_gen = ImageDataGenerator(\n",
        "    rotation_range = 20,\n",
        "    width_shift_range = 0.10,\n",
        "    height_shift_range = 0.10,\n",
        "    shear_range = 0.1,\n",
        "    zoom_range = 0.1,\n",
        "    horizontal_flip = True,\n",
        "    fill_mode = 'nearest'\n",
        ")\n",
        "\n",
        "train_generator = image_gen.flow(X_train, y_train, batch_size)"
      ],
      "metadata": {
        "id": "VFADLsx5nBUY"
      },
      "execution_count": 7,
      "outputs": []
    },
    {
      "cell_type": "code",
      "source": [
        "from tensorflow.keras.models import Sequential, Model\n",
        "from tensorflow.keras.layers import Conv2D, Dense, Dropout, Flatten, BatchNormalization, Input, MaxPool2D"
      ],
      "metadata": {
        "id": "3A8UdM_OnwTy"
      },
      "execution_count": 8,
      "outputs": []
    },
    {
      "cell_type": "code",
      "source": [
        "model = Sequential()\n",
        "\n",
        "i = Input(X_train[0].shape)\n",
        "\n",
        "# First Convolutional Block\n",
        "\n",
        "x = Conv2D(32, (3,3), padding='same', activation='relu')(i)\n",
        "x = BatchNormalization()(x)\n",
        "x = Conv2D(32, (3,3), padding='same', activation='relu')(x)\n",
        "x = BatchNormalization()(x)\n",
        "\n",
        "x = MaxPool2D((2,2))(x)\n",
        "\n",
        "# Second Convolutional Block\n",
        "\n",
        "x = Conv2D(64, (3,3), padding='same', activation='relu')(x)\n",
        "x = BatchNormalization()(x)\n",
        "x = Conv2D(64, (3,3), padding='same', activation='relu')(x)\n",
        "x = BatchNormalization()(x)\n",
        "\n",
        "x = MaxPool2D((2,2))(x)\n",
        "\n",
        "# Third Convolutional Block\n",
        "\n",
        "x = Conv2D(128, (3,3), padding='same', activation='relu')(x)\n",
        "x = BatchNormalization()(x)\n",
        "x = Conv2D(128, (3,3), padding='same', activation='relu')(x)\n",
        "x = BatchNormalization()(x)\n",
        "\n",
        "x = MaxPool2D((2,2))(x)\n",
        "\n",
        "x = Flatten()(x)\n",
        "x = Dropout(0.2)(x)\n",
        "\n",
        "x = Dense(1024, activation='relu')(x)\n",
        "x = Dropout(0.2)(x)\n",
        "\n",
        "x = Dense(10, activation = 'softmax')(x)\n",
        "\n",
        "model = Model(i, x)\n",
        "\n",
        "model.compile(optimizer='adam', loss='sparse_categorical_crossentropy', metrics=['accuracy'])"
      ],
      "metadata": {
        "id": "3hvbY7l2oQUr"
      },
      "execution_count": 12,
      "outputs": []
    },
    {
      "cell_type": "code",
      "source": [
        "model.summary()"
      ],
      "metadata": {
        "colab": {
          "base_uri": "https://localhost:8080/"
        },
        "id": "a_B0vQxUu2dK",
        "outputId": "513b4922-5146-4293-f988-4cc4ba1865c0"
      },
      "execution_count": 10,
      "outputs": [
        {
          "output_type": "stream",
          "name": "stdout",
          "text": [
            "Model: \"model\"\n",
            "_________________________________________________________________\n",
            " Layer (type)                Output Shape              Param #   \n",
            "=================================================================\n",
            " input_1 (InputLayer)        [(None, 32, 32, 3)]       0         \n",
            "                                                                 \n",
            " conv2d (Conv2D)             (None, 32, 32, 32)        896       \n",
            "                                                                 \n",
            " batch_normalization (BatchN  (None, 32, 32, 32)       128       \n",
            " ormalization)                                                   \n",
            "                                                                 \n",
            " conv2d_1 (Conv2D)           (None, 32, 32, 32)        9248      \n",
            "                                                                 \n",
            " batch_normalization_1 (Batc  (None, 32, 32, 32)       128       \n",
            " hNormalization)                                                 \n",
            "                                                                 \n",
            " max_pooling2d (MaxPooling2D  (None, 16, 16, 32)       0         \n",
            " )                                                               \n",
            "                                                                 \n",
            " conv2d_2 (Conv2D)           (None, 16, 16, 64)        18496     \n",
            "                                                                 \n",
            " batch_normalization_2 (Batc  (None, 16, 16, 64)       256       \n",
            " hNormalization)                                                 \n",
            "                                                                 \n",
            " conv2d_3 (Conv2D)           (None, 16, 16, 64)        36928     \n",
            "                                                                 \n",
            " batch_normalization_3 (Batc  (None, 16, 16, 64)       256       \n",
            " hNormalization)                                                 \n",
            "                                                                 \n",
            " max_pooling2d_1 (MaxPooling  (None, 8, 8, 64)         0         \n",
            " 2D)                                                             \n",
            "                                                                 \n",
            " flatten (Flatten)           (None, 4096)              0         \n",
            "                                                                 \n",
            " dropout (Dropout)           (None, 4096)              0         \n",
            "                                                                 \n",
            " dense (Dense)               (None, 1024)              4195328   \n",
            "                                                                 \n",
            " dropout_1 (Dropout)         (None, 1024)              0         \n",
            "                                                                 \n",
            " dense_1 (Dense)             (None, 10)                10250     \n",
            "                                                                 \n",
            "=================================================================\n",
            "Total params: 4,271,914\n",
            "Trainable params: 4,271,530\n",
            "Non-trainable params: 384\n",
            "_________________________________________________________________\n"
          ]
        }
      ]
    },
    {
      "cell_type": "code",
      "source": [
        "r = model.fit(train_generator, steps_per_epoch=steps_per_epoch, epochs=50, validation_data=(X_test, y_test), )"
      ],
      "metadata": {
        "colab": {
          "base_uri": "https://localhost:8080/"
        },
        "id": "wp2rKk4Swhz9",
        "outputId": "d3dd3dab-5425-439c-e389-af4d87d2f52c"
      },
      "execution_count": 13,
      "outputs": [
        {
          "output_type": "stream",
          "name": "stdout",
          "text": [
            "Epoch 1/50\n",
            "1562/1562 [==============================] - 32s 20ms/step - loss: 1.4979 - accuracy: 0.4763 - val_loss: 1.2299 - val_accuracy: 0.5728\n",
            "Epoch 2/50\n",
            "1562/1562 [==============================] - 30s 19ms/step - loss: 1.0882 - accuracy: 0.6196 - val_loss: 0.9448 - val_accuracy: 0.6730\n",
            "Epoch 3/50\n",
            "1562/1562 [==============================] - 30s 19ms/step - loss: 0.9379 - accuracy: 0.6754 - val_loss: 0.8495 - val_accuracy: 0.7120\n",
            "Epoch 4/50\n",
            "1562/1562 [==============================] - 30s 19ms/step - loss: 0.8455 - accuracy: 0.7084 - val_loss: 0.7347 - val_accuracy: 0.7475\n",
            "Epoch 5/50\n",
            "1562/1562 [==============================] - 31s 20ms/step - loss: 0.7785 - accuracy: 0.7314 - val_loss: 0.6247 - val_accuracy: 0.7875\n",
            "Epoch 6/50\n",
            "1562/1562 [==============================] - 30s 19ms/step - loss: 0.7299 - accuracy: 0.7525 - val_loss: 0.7753 - val_accuracy: 0.7512\n",
            "Epoch 7/50\n",
            "1562/1562 [==============================] - 30s 19ms/step - loss: 0.6809 - accuracy: 0.7682 - val_loss: 0.7335 - val_accuracy: 0.7643\n",
            "Epoch 8/50\n",
            "1562/1562 [==============================] - 31s 20ms/step - loss: 0.6413 - accuracy: 0.7812 - val_loss: 0.6304 - val_accuracy: 0.7935\n",
            "Epoch 9/50\n",
            "1562/1562 [==============================] - 30s 19ms/step - loss: 0.6095 - accuracy: 0.7917 - val_loss: 0.6160 - val_accuracy: 0.7956\n",
            "Epoch 10/50\n",
            "1562/1562 [==============================] - 30s 19ms/step - loss: 0.5777 - accuracy: 0.8026 - val_loss: 0.5696 - val_accuracy: 0.8151\n",
            "Epoch 11/50\n",
            "1562/1562 [==============================] - 30s 19ms/step - loss: 0.5551 - accuracy: 0.8089 - val_loss: 0.5160 - val_accuracy: 0.8313\n",
            "Epoch 12/50\n",
            "1562/1562 [==============================] - 30s 19ms/step - loss: 0.5295 - accuracy: 0.8188 - val_loss: 0.5994 - val_accuracy: 0.8006\n",
            "Epoch 13/50\n",
            "1562/1562 [==============================] - 30s 19ms/step - loss: 0.5156 - accuracy: 0.8238 - val_loss: 0.5256 - val_accuracy: 0.8238\n",
            "Epoch 14/50\n",
            "1562/1562 [==============================] - 30s 19ms/step - loss: 0.4963 - accuracy: 0.8287 - val_loss: 0.6279 - val_accuracy: 0.8022\n",
            "Epoch 15/50\n",
            "1562/1562 [==============================] - 30s 19ms/step - loss: 0.4797 - accuracy: 0.8347 - val_loss: 0.4598 - val_accuracy: 0.8513\n",
            "Epoch 16/50\n",
            "1562/1562 [==============================] - 30s 19ms/step - loss: 0.4590 - accuracy: 0.8421 - val_loss: 0.4620 - val_accuracy: 0.8450\n",
            "Epoch 17/50\n",
            "1562/1562 [==============================] - 30s 19ms/step - loss: 0.4465 - accuracy: 0.8462 - val_loss: 0.4598 - val_accuracy: 0.8467\n",
            "Epoch 18/50\n",
            "1562/1562 [==============================] - 30s 19ms/step - loss: 0.4404 - accuracy: 0.8499 - val_loss: 0.4358 - val_accuracy: 0.8566\n",
            "Epoch 19/50\n",
            "1562/1562 [==============================] - 30s 19ms/step - loss: 0.4255 - accuracy: 0.8541 - val_loss: 0.4299 - val_accuracy: 0.8620\n",
            "Epoch 20/50\n",
            "1562/1562 [==============================] - 30s 19ms/step - loss: 0.4173 - accuracy: 0.8550 - val_loss: 0.4497 - val_accuracy: 0.8511\n",
            "Epoch 21/50\n",
            "1562/1562 [==============================] - 30s 19ms/step - loss: 0.4054 - accuracy: 0.8611 - val_loss: 0.4651 - val_accuracy: 0.8535\n",
            "Epoch 22/50\n",
            "1562/1562 [==============================] - 30s 19ms/step - loss: 0.3948 - accuracy: 0.8642 - val_loss: 0.4632 - val_accuracy: 0.8521\n",
            "Epoch 23/50\n",
            "1562/1562 [==============================] - 30s 19ms/step - loss: 0.3982 - accuracy: 0.8624 - val_loss: 0.4119 - val_accuracy: 0.8655\n",
            "Epoch 24/50\n",
            "1562/1562 [==============================] - 30s 19ms/step - loss: 0.3836 - accuracy: 0.8681 - val_loss: 0.4264 - val_accuracy: 0.8633\n",
            "Epoch 25/50\n",
            "1562/1562 [==============================] - 30s 19ms/step - loss: 0.3758 - accuracy: 0.8716 - val_loss: 0.3946 - val_accuracy: 0.8679\n",
            "Epoch 26/50\n",
            "1562/1562 [==============================] - 30s 19ms/step - loss: 0.3651 - accuracy: 0.8751 - val_loss: 0.4412 - val_accuracy: 0.8550\n",
            "Epoch 27/50\n",
            "1562/1562 [==============================] - 30s 19ms/step - loss: 0.3620 - accuracy: 0.8757 - val_loss: 0.4016 - val_accuracy: 0.8713\n",
            "Epoch 28/50\n",
            "1562/1562 [==============================] - 30s 19ms/step - loss: 0.3555 - accuracy: 0.8775 - val_loss: 0.3751 - val_accuracy: 0.8762\n",
            "Epoch 29/50\n",
            "1562/1562 [==============================] - 30s 19ms/step - loss: 0.3450 - accuracy: 0.8809 - val_loss: 0.3965 - val_accuracy: 0.8722\n",
            "Epoch 30/50\n",
            "1562/1562 [==============================] - 30s 19ms/step - loss: 0.3445 - accuracy: 0.8819 - val_loss: 0.4104 - val_accuracy: 0.8638\n",
            "Epoch 31/50\n",
            "1562/1562 [==============================] - 30s 19ms/step - loss: 0.3404 - accuracy: 0.8824 - val_loss: 0.4401 - val_accuracy: 0.8635\n",
            "Epoch 32/50\n",
            "1562/1562 [==============================] - 30s 19ms/step - loss: 0.3362 - accuracy: 0.8838 - val_loss: 0.4196 - val_accuracy: 0.8662\n",
            "Epoch 33/50\n",
            "1562/1562 [==============================] - 30s 19ms/step - loss: 0.3259 - accuracy: 0.8893 - val_loss: 0.3733 - val_accuracy: 0.8766\n",
            "Epoch 34/50\n",
            "1562/1562 [==============================] - 30s 19ms/step - loss: 0.3212 - accuracy: 0.8898 - val_loss: 0.3776 - val_accuracy: 0.8749\n",
            "Epoch 35/50\n",
            "1562/1562 [==============================] - 30s 19ms/step - loss: 0.3210 - accuracy: 0.8890 - val_loss: 0.3776 - val_accuracy: 0.8779\n",
            "Epoch 36/50\n",
            "1562/1562 [==============================] - 30s 19ms/step - loss: 0.3144 - accuracy: 0.8924 - val_loss: 0.4050 - val_accuracy: 0.8717\n",
            "Epoch 37/50\n",
            "1562/1562 [==============================] - 30s 19ms/step - loss: 0.3115 - accuracy: 0.8926 - val_loss: 0.3819 - val_accuracy: 0.8745\n",
            "Epoch 38/50\n",
            "1562/1562 [==============================] - 30s 19ms/step - loss: 0.3068 - accuracy: 0.8933 - val_loss: 0.4410 - val_accuracy: 0.8651\n",
            "Epoch 39/50\n",
            "1562/1562 [==============================] - 30s 19ms/step - loss: 0.3073 - accuracy: 0.8938 - val_loss: 0.4036 - val_accuracy: 0.8732\n",
            "Epoch 40/50\n",
            "1562/1562 [==============================] - 30s 19ms/step - loss: 0.2982 - accuracy: 0.8967 - val_loss: 0.4172 - val_accuracy: 0.8703\n",
            "Epoch 41/50\n",
            "1562/1562 [==============================] - 30s 19ms/step - loss: 0.2978 - accuracy: 0.8972 - val_loss: 0.3982 - val_accuracy: 0.8770\n",
            "Epoch 42/50\n",
            "1562/1562 [==============================] - 30s 19ms/step - loss: 0.2923 - accuracy: 0.8991 - val_loss: 0.3744 - val_accuracy: 0.8783\n",
            "Epoch 43/50\n",
            "1562/1562 [==============================] - 30s 19ms/step - loss: 0.2921 - accuracy: 0.8980 - val_loss: 0.3963 - val_accuracy: 0.8752\n",
            "Epoch 44/50\n",
            "1562/1562 [==============================] - 30s 19ms/step - loss: 0.2851 - accuracy: 0.9018 - val_loss: 0.4139 - val_accuracy: 0.8705\n",
            "Epoch 45/50\n",
            "1562/1562 [==============================] - 30s 19ms/step - loss: 0.2809 - accuracy: 0.9033 - val_loss: 0.3816 - val_accuracy: 0.8763\n",
            "Epoch 46/50\n",
            "1562/1562 [==============================] - 30s 19ms/step - loss: 0.2785 - accuracy: 0.9037 - val_loss: 0.3736 - val_accuracy: 0.8832\n",
            "Epoch 47/50\n",
            "1562/1562 [==============================] - 30s 19ms/step - loss: 0.2810 - accuracy: 0.9039 - val_loss: 0.3922 - val_accuracy: 0.8764\n",
            "Epoch 48/50\n",
            "1562/1562 [==============================] - 30s 19ms/step - loss: 0.2812 - accuracy: 0.9048 - val_loss: 0.3668 - val_accuracy: 0.8811\n",
            "Epoch 49/50\n",
            "1562/1562 [==============================] - 30s 19ms/step - loss: 0.2725 - accuracy: 0.9064 - val_loss: 0.4097 - val_accuracy: 0.8699\n",
            "Epoch 50/50\n",
            "1562/1562 [==============================] - 30s 19ms/step - loss: 0.2748 - accuracy: 0.9060 - val_loss: 0.3793 - val_accuracy: 0.8833\n"
          ]
        }
      ]
    },
    {
      "cell_type": "code",
      "source": [
        "plt.plot(r.history['loss'])\n",
        "plt.plot(r.history['val_loss'])\n",
        "plt.legend(['train', 'test'])\n",
        "plt.title('Model Loss')"
      ],
      "metadata": {
        "colab": {
          "base_uri": "https://localhost:8080/",
          "height": 299
        },
        "id": "qwkxMzTk6qdS",
        "outputId": "0bfe7135-b1d2-462f-9d38-250028af2130"
      },
      "execution_count": 24,
      "outputs": [
        {
          "output_type": "execute_result",
          "data": {
            "text/plain": [
              "Text(0.5, 1.0, 'Model Loss')"
            ]
          },
          "metadata": {},
          "execution_count": 24
        },
        {
          "output_type": "display_data",
          "data": {
            "text/plain": [
              "<Figure size 432x288 with 1 Axes>"
            ],
            "image/png": "[encoded data removed]"
          },
          "metadata": {
            "needs_background": "light"
          }
        }
      ]
    },
    {
      "cell_type": "code",
      "source": [
        "plt.plot(r.history['accuracy'])\n",
        "plt.plot(r.history['val_accuracy'])\n",
        "plt.legend(['train', 'test'])\n",
        "plt.title('Model Accuracy')"
      ],
      "metadata": {
        "colab": {
          "base_uri": "https://localhost:8080/",
          "height": 299
        },
        "id": "MxY79DWN6t0e",
        "outputId": "7f279819-73b4-49e3-d213-28e6056e3545"
      },
      "execution_count": 25,
      "outputs": [
        {
          "output_type": "execute_result",
          "data": {
            "text/plain": [
              "Text(0.5, 1.0, 'Model Accuracy')"
            ]
          },
          "metadata": {},
          "execution_count": 25
        },
        {
          "output_type": "display_data",
          "data": {
            "text/plain": [
              "<Figure size 432x288 with 1 Axes>"
            ],
            "image/png": "[encoded data removed]"
          },
          "metadata": {
            "needs_background": "light"
          }
        }
      ]
    },
    {
      "cell_type": "code",
      "source": [
        "from sklearn.metrics import classification_report, confusion_matrix"
      ],
      "metadata": {
        "id": "uB-k-yaG7udd"
      },
      "execution_count": 26,
      "outputs": []
    },
    {
      "cell_type": "code",
      "source": [
        "predictions = np.argmax(model.predict(X_test), axis=1)"
      ],
      "metadata": {
        "id": "xd3OJy_c71Fg"
      },
      "execution_count": 29,
      "outputs": []
    },
    {
      "cell_type": "code",
      "source": [
        "print(classification_report(y_test, predictions))"
      ],
      "metadata": {
        "colab": {
          "base_uri": "https://localhost:8080/"
        },
        "id": "hN_elX1i75rN",
        "outputId": "7ca6410e-c0d6-45b0-8486-26925de3db0a"
      },
      "execution_count": 30,
      "outputs": [
        {
          "output_type": "stream",
          "name": "stdout",
          "text": [
            "              precision    recall  f1-score   support\n",
            "\n",
            "           0       0.86      0.92      0.89      1000\n",
            "           1       0.90      0.97      0.94      1000\n",
            "           2       0.85      0.84      0.85      1000\n",
            "           3       0.84      0.71      0.77      1000\n",
            "           4       0.90      0.84      0.87      1000\n",
            "           5       0.86      0.82      0.84      1000\n",
            "           6       0.87      0.95      0.91      1000\n",
            "           7       0.92      0.92      0.92      1000\n",
            "           8       0.94      0.92      0.93      1000\n",
            "           9       0.88      0.94      0.91      1000\n",
            "\n",
            "    accuracy                           0.88     10000\n",
            "   macro avg       0.88      0.88      0.88     10000\n",
            "weighted avg       0.88      0.88      0.88     10000\n",
            "\n"
          ]
        }
      ]
    },
    {
      "cell_type": "code",
      "source": [
        "conf_matr = confusion_matrix(y_test, predictions)\n",
        "sns.heatmap(conf_matr, annot=True,)"
      ],
      "metadata": {
        "colab": {
          "base_uri": "https://localhost:8080/",
          "height": 283
        },
        "id": "j0JvVOsm8IcL",
        "outputId": "cb8a482a-bbfb-45f8-f32b-4801ddc1bfd0"
      },
      "execution_count": 32,
      "outputs": [
        {
          "output_type": "execute_result",
          "data": {
            "text/plain": [
              "<matplotlib.axes._subplots.AxesSubplot at 0x7fbeff9d39d0>"
            ]
          },
          "metadata": {},
          "execution_count": 32
        },
        {
          "output_type": "display_data",
          "data": {
            "text/plain": [
              "<Figure size 432x288 with 2 Axes>"
            ],
            "image/png": "[encoded data removed]"
          },
          "metadata": {
            "needs_background": "light"
          }
        }
      ]
    },
    {
      "cell_type": "markdown",
      "source": [
        "airplane\t\t\t\t\t\t\t\t\t\t\n",
        "automobile\t\t\t\t\t\t\t\t\t\t\n",
        "bird\t\t\t\t\t\t\t\t\t\t\n",
        "cat\t\t\t\t\t\t\t\t\t\t\n",
        "deer\t\t\t\t\t\t\t\t\t\t\n",
        "dog\t\t\t\t\t\t\t\t\t\t\n",
        "frog\t\t\t\t\t\t\t\t\t\t\n",
        "horse\t\t\t\t\t\t\t\t\t\t\n",
        "ship\t\t\t\t\t\t\t\t\t\t\n",
        "truck\t\t\t\t\t\t\t\t\t\t"
      ],
      "metadata": {
        "id": "iN9zDvPN9P5c"
      }
    },
    {
      "cell_type": "markdown",
      "source": [
        "We've managed to increase our previous accuracy of 0.72 to 0.88 using Data Augmentation and Batch Normalization."
      ],
      "metadata": {
        "id": "fGNiOA-N8rpa"
      }
    }
  ]
}