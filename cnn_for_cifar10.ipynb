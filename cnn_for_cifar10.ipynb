{
  "cells": [
    {
      "cell_type": "markdown",
      "metadata": {
        "id": "view-in-github",
        "colab_type": "text"
      },
      "source": [
        "<a href=\"https://colab.research.google.com/github/enesertas/computer_vision_step_by_step/blob/main/cnn_for_cifar10.ipynb\" target=\"_parent\"><img src=\"https://colab.research.google.com/assets/colab-badge.svg\" alt=\"Open In Colab\"/></a>"
      ]
    },
    {
      "cell_type": "code",
      "execution_count": null,
      "metadata": {
        "id": "U6U2P86-mZ-d"
      },
      "outputs": [],
      "source": [
        "import tensorflow as tf"
      ]
    },
    {
      "cell_type": "code",
      "execution_count": null,
      "metadata": {
        "id": "DEuKzjmsmUkz"
      },
      "outputs": [],
      "source": [
        "cifar10 = tf.keras.datasets.cifar10"
      ]
    },
    {
      "cell_type": "code",
      "execution_count": null,
      "metadata": {
        "colab": {
          "base_uri": "https://localhost:8080/"
        },
        "id": "5-GPjd8Kmfos",
        "outputId": "2f618847-da7e-4706-f553-16244be1baa8"
      },
      "outputs": [
        {
          "name": "stdout",
          "output_type": "stream",
          "text": [
            "Downloading data from https://www.cs.toronto.edu/~kriz/cifar-10-python.tar.gz\n",
            "170500096/170498071 [==============================] - 3s 0us/step\n",
            "170508288/170498071 [==============================] - 3s 0us/step\n"
          ]
        }
      ],
      "source": [
        "data = cifar10.load_data()"
      ]
    },
    {
      "cell_type": "code",
      "execution_count": null,
      "metadata": {
        "id": "IzKFgnqvmhum"
      },
      "outputs": [],
      "source": [
        "(X_train, y_train), (X_test, y_test) = data"
      ]
    },
    {
      "cell_type": "code",
      "execution_count": null,
      "metadata": {
        "id": "3oGGg5i0mu5h"
      },
      "outputs": [],
      "source": [
        "import numpy as np\n",
        "import pandas as pd\n",
        "import matplotlib.pyplot as plt"
      ]
    },
    {
      "cell_type": "code",
      "execution_count": null,
      "metadata": {
        "colab": {
          "base_uri": "https://localhost:8080/",
          "height": 283
        },
        "id": "zLcUlhSwmsU7",
        "outputId": "7e5eb027-057d-47df-aa94-018273026406"
      },
      "outputs": [
        {
          "data": {
            "text/plain": [
              "<matplotlib.image.AxesImage at 0x7f82f056db90>"
            ]
          },
          "execution_count": 6,
          "metadata": {},
          "output_type": "execute_result"
        },
        {
          "data": {
            "image/png": "[encoded data removed]",
            "text/plain": [
              "<Figure size 432x288 with 1 Axes>"
            ]
          },
          "metadata": {},
          "output_type": "display_data"
        }
      ],
      "source": [
        "plt.imshow(X_train[0])"
      ]
    },
    {
      "cell_type": "code",
      "execution_count": null,
      "metadata": {
        "colab": {
          "base_uri": "https://localhost:8080/"
        },
        "id": "dJK4EyHcm06o",
        "outputId": "e417a7f7-1fd5-4c98-9b2d-46438eec4a21"
      },
      "outputs": [
        {
          "data": {
            "text/plain": [
              "((50000, 32, 32, 3), (10000, 32, 32, 3))"
            ]
          },
          "execution_count": 7,
          "metadata": {},
          "output_type": "execute_result"
        }
      ],
      "source": [
        "X_train.shape, X_test.shape"
      ]
    },
    {
      "cell_type": "code",
      "execution_count": null,
      "metadata": {
        "id": "Jx9qW2nWonw0"
      },
      "outputs": [],
      "source": [
        "from tensorflow.keras.utils import to_categorical"
      ]
    },
    {
      "cell_type": "code",
      "execution_count": null,
      "metadata": {
        "id": "zuoSpR6BoxKY"
      },
      "outputs": [],
      "source": [
        "y_test_cat = to_categorical(y_test, 10)\n",
        "y_train_cat = to_categorical(y_train, 10)"
      ]
    },
    {
      "cell_type": "code",
      "execution_count": null,
      "metadata": {
        "colab": {
          "base_uri": "https://localhost:8080/"
        },
        "id": "GCj9IZgvo_ao",
        "outputId": "c96f83f0-4d02-48bb-e110-707ece01c4d4"
      },
      "outputs": [
        {
          "data": {
            "text/plain": [
              "array([[0., 0., 0., ..., 0., 0., 0.],\n",
              "       [0., 0., 0., ..., 0., 1., 0.],\n",
              "       [0., 0., 0., ..., 0., 1., 0.],\n",
              "       ...,\n",
              "       [0., 0., 0., ..., 0., 0., 0.],\n",
              "       [0., 1., 0., ..., 0., 0., 0.],\n",
              "       [0., 0., 0., ..., 1., 0., 0.]], dtype=float32)"
            ]
          },
          "execution_count": 10,
          "metadata": {},
          "output_type": "execute_result"
        }
      ],
      "source": [
        "y_test_cat"
      ]
    },
    {
      "cell_type": "code",
      "execution_count": null,
      "metadata": {
        "id": "v_KteeEWm7gi"
      },
      "outputs": [],
      "source": [
        "X_train, X_test = X_train/255, X_test/255"
      ]
    },
    {
      "cell_type": "code",
      "execution_count": null,
      "metadata": {
        "id": "YsrxuIBFnLr5"
      },
      "outputs": [],
      "source": [
        "from tensorflow.keras.models import Sequential\n",
        "from tensorflow.keras.layers import Conv2D, Input, Dense, Dropout, Flatten, MaxPool2D\n",
        "from tensorflow.keras import Model"
      ]
    },
    {
      "cell_type": "code",
      "execution_count": null,
      "metadata": {
        "id": "ZpceQmnGncnz"
      },
      "outputs": [],
      "source": [
        "model = Sequential()\n",
        "\n",
        "i = Input(shape=(32,32,3))\n",
        "x = Conv2D(32, (3,3), strides=2, activation='relu')(i)\n",
        "x = Conv2D(64, (3,3), strides=2, activation='relu')(x)\n",
        "x = Conv2D(128, (3,3), strides=2, activation='relu')(x)\n",
        "x = Flatten()(x)\n",
        "x = Dropout(0.2)(x)\n",
        "x = Dense(1024, activation='relu')(x)\n",
        "x = Dropout(0.2)(x)\n",
        "x = Dense(10, activation='softmax')(x)\n",
        "\n",
        "model = Model(i,x)\n",
        "\n",
        "model.compile(optimizer='adam', loss='categorical_crossentropy', metrics=['accuracy'])"
      ]
    },
    {
      "cell_type": "code",
      "execution_count": null,
      "metadata": {
        "colab": {
          "background_save": true,
          "base_uri": "https://localhost:8080/"
        },
        "id": "1XWeIpvqp0Sx",
        "outputId": "7357e2e5-205f-440d-b6d5-23020789fe35"
      },
      "outputs": [
        {
          "name": "stdout",
          "output_type": "stream",
          "text": [
            "Epoch 1/10\n",
            "1563/1563 [==============================] - 70s 45ms/step - loss: 1.5050 - accuracy: 0.4557 - val_loss: 1.2368 - val_accuracy: 0.5558\n",
            "Epoch 2/10\n",
            "1563/1563 [==============================] - 64s 41ms/step - loss: 1.1634 - accuracy: 0.5847 - val_loss: 1.0279 - val_accuracy: 0.6310\n",
            "Epoch 3/10\n",
            "1563/1563 [==============================] - 58s 37ms/step - loss: 1.0037 - accuracy: 0.6462 - val_loss: 0.9808 - val_accuracy: 0.6481\n",
            "Epoch 4/10\n",
            "1563/1563 [==============================] - 59s 38ms/step - loss: 0.8899 - accuracy: 0.6852 - val_loss: 0.9184 - val_accuracy: 0.6756\n",
            "Epoch 5/10\n",
            "1563/1563 [==============================] - 59s 38ms/step - loss: 0.7892 - accuracy: 0.7228 - val_loss: 0.9096 - val_accuracy: 0.6834\n",
            "Epoch 6/10\n",
            "1563/1563 [==============================] - 59s 38ms/step - loss: 0.7062 - accuracy: 0.7506 - val_loss: 0.8803 - val_accuracy: 0.6925\n",
            "Epoch 7/10\n",
            "1563/1563 [==============================] - 58s 37ms/step - loss: 0.6280 - accuracy: 0.7776 - val_loss: 0.8838 - val_accuracy: 0.6995\n",
            "Epoch 8/10\n",
            "1563/1563 [==============================] - 58s 37ms/step - loss: 0.5569 - accuracy: 0.8017 - val_loss: 0.8964 - val_accuracy: 0.6989\n",
            "Epoch 9/10\n",
            "1563/1563 [==============================] - 59s 37ms/step - loss: 0.4875 - accuracy: 0.8276 - val_loss: 0.8798 - val_accuracy: 0.7091\n",
            "Epoch 10/10\n",
            "1563/1563 [==============================] - 59s 38ms/step - loss: 0.4443 - accuracy: 0.8423 - val_loss: 0.9269 - val_accuracy: 0.7051\n"
          ]
        }
      ],
      "source": [
        "r = model.fit(X_train, y_train_cat, validation_data=(X_test, y_test_cat), epochs=10)"
      ]
    },
    {
      "cell_type": "code",
      "execution_count": null,
      "metadata": {
        "colab": {
          "base_uri": "https://localhost:8080/",
          "height": 298
        },
        "id": "Ift-yWSzO9N7",
        "outputId": "a86c8818-8dcf-4943-80bc-66421199f24a"
      },
      "outputs": [
        {
          "data": {
            "text/plain": [
              "Text(0.5, 1.0, 'Model Loss')"
            ]
          },
          "execution_count": 17,
          "metadata": {},
          "output_type": "execute_result"
        },
        {
          "data": {
            "image/png": "[encoded data removed]",
            "text/plain": [
              "<Figure size 432x288 with 1 Axes>"
            ]
          },
          "metadata": {},
          "output_type": "display_data"
        }
      ],
      "source": [
        "plt.plot(r.history['loss'])\n",
        "plt.plot(r.history['val_loss'])\n",
        "plt.legend(['train', 'test'], loc='upper left')\n",
        "plt.title('Model Loss')"
      ]
    },
    {
      "cell_type": "code",
      "execution_count": null,
      "metadata": {
        "colab": {
          "base_uri": "https://localhost:8080/",
          "height": 298
        },
        "id": "jN5R96_HRNPA",
        "outputId": "b02a283e-1d14-4d45-ae2b-bcc2dcf0aa86"
      },
      "outputs": [
        {
          "data": {
            "text/plain": [
              "Text(0.5, 1.0, 'Model Accuracy')"
            ]
          },
          "execution_count": 18,
          "metadata": {},
          "output_type": "execute_result"
        },
        {
          "data": {
            "image/png": "[encoded data removed]",
            "text/plain": [
              "<Figure size 432x288 with 1 Axes>"
            ]
          },
          "metadata": {},
          "output_type": "display_data"
        }
      ],
      "source": [
        "plt.plot(r.history['accuracy'])\n",
        "plt.plot(r.history['val_accuracy'])\n",
        "plt.legend(['train', 'test'], loc='upper left')\n",
        "plt.title('Model Accuracy')"
      ]
    },
    {
      "cell_type": "code",
      "execution_count": null,
      "metadata": {
        "id": "ghC5pEcyRnpt"
      },
      "outputs": [],
      "source": [
        "predictions = np.argmax(model.predict(X_test), axis=1)"
      ]
    },
    {
      "cell_type": "code",
      "execution_count": null,
      "metadata": {
        "id": "YC3nDxK0Rf7z"
      },
      "outputs": [],
      "source": [
        "from sklearn.metrics import classification_report, confusion_matrix"
      ]
    },
    {
      "cell_type": "code",
      "execution_count": null,
      "metadata": {
        "colab": {
          "base_uri": "https://localhost:8080/"
        },
        "id": "nVPtf7KBRkfM",
        "outputId": "c7d56eb0-ab88-4af0-9421-31ac7390c102"
      },
      "outputs": [
        {
          "name": "stdout",
          "output_type": "stream",
          "text": [
            "              precision    recall  f1-score   support\n",
            "\n",
            "           0       0.81      0.67      0.73      1000\n",
            "           1       0.89      0.76      0.82      1000\n",
            "           2       0.58      0.67      0.62      1000\n",
            "           3       0.48      0.56      0.52      1000\n",
            "           4       0.68      0.64      0.66      1000\n",
            "           5       0.62      0.59      0.60      1000\n",
            "           6       0.79      0.77      0.78      1000\n",
            "           7       0.78      0.75      0.77      1000\n",
            "           8       0.79      0.85      0.82      1000\n",
            "           9       0.75      0.81      0.78      1000\n",
            "\n",
            "    accuracy                           0.71     10000\n",
            "   macro avg       0.72      0.71      0.71     10000\n",
            "weighted avg       0.72      0.71      0.71     10000\n",
            "\n"
          ]
        }
      ],
      "source": [
        "print(classification_report(y_test, predictions))"
      ]
    },
    {
      "cell_type": "code",
      "execution_count": null,
      "metadata": {
        "colab": {
          "base_uri": "https://localhost:8080/"
        },
        "id": "bxKdhx54RyTF",
        "outputId": "3fa793a8-1d71-4d5a-ee55-e39189f64fa2"
      },
      "outputs": [
        {
          "name": "stdout",
          "output_type": "stream",
          "text": [
            "[[666  11  92  24  26   5   8  10 106  52]\n",
            " [ 14 760   8  10   4   9  13   8  35 139]\n",
            " [ 39   4 668  70  64  62  39  31  18   5]\n",
            " [ 16   5  91 558  60 150  53  31  17  19]\n",
            " [ 14   2 100  98 643  36  39  57   8   3]\n",
            " [ 14   4  63 206  42 590  26  44   5   6]\n",
            " [  3   3  55  87  37  25 767  12   5   6]\n",
            " [  7   1  43  56  60  58   8 754   4   9]\n",
            " [ 30  18  18  22   7  12   7   2 855  29]\n",
            " [ 18  48  12  29   8   9  15  20  35 806]]\n"
          ]
        }
      ],
      "source": [
        "print(confusion_matrix(y_test, predictions))"
      ]
    },
    {
      "cell_type": "markdown",
      "metadata": {
        "id": "t63E3EnaSIhB"
      },
      "source": [
        "airplane\t\t\t\t\t\t\t\t\t\t\n",
        "automobile\t\t\t\t\t\t\t\t\t\t\n",
        "bird\t\t\t\t\t\t\t\t\t\t\n",
        "cat\t\t\t\t\t\t\t\t\t\t\n",
        "deer\t\t\t\t\t\t\t\t\t\t\n",
        "dog\t\t\t\t\t\t\t\t\t\t\n",
        "frog\t\t\t\t\t\t\t\t\t\t\n",
        "horse\t\t\t\t\t\t\t\t\t\t\n",
        "ship\t\t\t\t\t\t\t\t\t\t\n",
        "truck"
      ]
    },
    {
      "cell_type": "code",
      "execution_count": null,
      "metadata": {
        "id": "IYQrY_KdSTcO"
      },
      "outputs": [],
      "source": [
        "import seaborn as sns"
      ]
    },
    {
      "cell_type": "code",
      "execution_count": null,
      "metadata": {
        "colab": {
          "base_uri": "https://localhost:8080/",
          "height": 282
        },
        "id": "28hjkHN2SPRh",
        "outputId": "228a02c0-37b6-480c-d5e1-6dee57c704f5"
      },
      "outputs": [
        {
          "data": {
            "text/plain": [
              "<matplotlib.axes._subplots.AxesSubplot at 0x7f8218397410>"
            ]
          },
          "execution_count": 29,
          "metadata": {},
          "output_type": "execute_result"
        },
        {
          "data": {
            "image/png": "[encoded data removed]",
            "text/plain": [
              "<Figure size 432x288 with 2 Axes>"
            ]
          },
          "metadata": {},
          "output_type": "display_data"
        }
      ],
      "source": [
        "sns.heatmap(confusion_matrix(y_test, predictions))"
      ]
    },
    {
      "cell_type": "markdown",
      "metadata": {
        "id": "10B3Up2sSLLi"
      },
      "source": [
        "Looks like our model confuses class 3 with class 5 the most and those classes appear to be cats and dogs which are expected to be similar when working with 32 by 32 pixels."
      ]
    }
  ],
  "metadata": {
    "accelerator": "GPU",
    "colab": {
      "provenance": [],
      "authorship_tag": "ABX9TyM/LO3AuMFYf5NqU8gB1+bR",
      "include_colab_link": true
    },
    "kernelspec": {
      "display_name": "Python 3",
      "name": "python3"
    },
    "language_info": {
      "name": "python"
    }
  },
  "nbformat": 4,
  "nbformat_minor": 0
}