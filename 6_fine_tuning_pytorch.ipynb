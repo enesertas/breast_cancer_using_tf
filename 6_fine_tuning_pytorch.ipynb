{
  "cells": [
    {
      "cell_type": "markdown",
      "metadata": {
        "id": "view-in-github",
        "colab_type": "text"
      },
      "source": [
        "<a href=\"https://colab.research.google.com/github/enesertas/computer_vision_step_by_step/blob/main/fine_tuning_pytorch.ipynb\" target=\"_parent\"><img src=\"https://colab.research.google.com/assets/colab-badge.svg\" alt=\"Open In Colab\"/></a>"
      ]
    },
    {
      "cell_type": "markdown",
      "metadata": {
        "id": "YA8kedxetetT"
      },
      "source": [
        "## Configurations"
      ]
    },
    {
      "cell_type": "code",
      "execution_count": null,
      "metadata": {
        "id": "yeXc9a367Wii"
      },
      "outputs": [],
      "source": [
        "import numpy as np\n",
        "import torch\n",
        "import torch.nn as nn\n",
        "from torchvision.models import vgg19\n",
        "from torchvision import datasets\n",
        "from torchvision import transforms\n",
        "from torch.utils.data.sampler import SubsetRandomSampler\n",
        "import os\n",
        "import time\n",
        "import copy\n",
        "from torch.optim import lr_scheduler\n",
        "import matplotlib.pyplot as plt\n",
        "from sklearn.metrics import confusion_matrix, classification_report\n",
        "import seaborn as sns\n",
        "\n",
        "# Hyperparameters\n",
        "batch_size = 32\n",
        "num_epochs = 30\n",
        "# Device configuration\n",
        "device = torch.device('cuda' if torch.cuda.is_available() else 'cpu')"
      ]
    },
    {
      "cell_type": "code",
      "execution_count": null,
      "metadata": {
        "colab": {
          "base_uri": "https://localhost:8080/"
        },
        "id": "uIh8U1z-7dEo",
        "outputId": "5ea4ceee-d50c-4d2a-9020-00406fe2c345"
      },
      "outputs": [
        {
          "output_type": "execute_result",
          "data": {
            "text/plain": [
              "device(type='cuda')"
            ]
          },
          "metadata": {},
          "execution_count": 84
        }
      ],
      "source": [
        "device"
      ]
    },
    {
      "cell_type": "markdown",
      "metadata": {
        "id": "CtF5vsoMx5fP"
      },
      "source": [
        "## Loading data and preprocessing"
      ]
    },
    {
      "cell_type": "code",
      "execution_count": null,
      "metadata": {
        "id": "tIvLdZ_F7hfz"
      },
      "outputs": [],
      "source": [
        "data_transforms = transforms.Compose([transforms.Resize((60,60)),\n",
        "                                     transforms.ToTensor(),\n",
        "                                     transforms.Normalize(mean=[0.5, 0.5, 0.5],\n",
        "                                                          std=[0.25, 0.25, 0.25])\n",
        "                                     ])"
      ]
    },
    {
      "cell_type": "code",
      "execution_count": null,
      "metadata": {
        "colab": {
          "base_uri": "https://localhost:8080/"
        },
        "id": "8x6VpXMW7uPb",
        "outputId": "529405aa-1741-4bed-a640-043730ed057a"
      },
      "outputs": [
        {
          "output_type": "stream",
          "name": "stdout",
          "text": [
            "['Bean', 'Bitter_Gourd', 'Bottle_Gourd', 'Brinjal', 'Broccoli', 'Cabbage', 'Capsicum', 'Carrot', 'Cauliflower', 'Cucumber', 'Papaya', 'Potato', 'Pumpkin', 'Radish', 'Tomato']\n"
          ]
        }
      ],
      "source": [
        "data_dir = '/content/Vegetable Images' #TODO Paste directory shared link from drive.\n",
        "image_datasets = {x: datasets.ImageFolder(os.path.join(data_dir, x),\n",
        "                                          data_transforms)\n",
        "                  for x in ['train','validation', 'test']}\n",
        "dataloaders = {x: torch.utils.data.DataLoader(image_datasets[x], batch_size=batch_size,\n",
        "                                             shuffle=True, num_workers=0)\n",
        "              for x in ['train','validation', 'test']}\n",
        "dataset_sizes = {x: len(image_datasets[x]) for x in ['train','validation', 'test']}\n",
        "class_names = image_datasets['train'].classes\n",
        "\n",
        "print(class_names)"
      ]
    },
    {
      "cell_type": "code",
      "execution_count": null,
      "metadata": {
        "id": "H0giQJSI7wZw"
      },
      "outputs": [],
      "source": [
        "# Instantiate loader objects to facilitate processing\n",
        "train_loader = torch.utils.data.DataLoader(dataset = image_datasets['train'],\n",
        "                                           batch_size = batch_size,\n",
        "                                           shuffle = True)\n",
        "\n",
        "validation_loader = torch.utils.data.DataLoader(dataset = image_datasets['validation'],\n",
        "                                           batch_size = batch_size,\n",
        "                                           shuffle = True)\n",
        "\n",
        "test_loader = torch.utils.data.DataLoader(dataset = image_datasets['test'],\n",
        "                                           batch_size = batch_size,\n",
        "                                           shuffle = True)"
      ]
    },
    {
      "cell_type": "markdown",
      "metadata": {
        "id": "uxrQxJfEFpqw"
      },
      "source": [
        "## Fine Tuning Model"
      ]
    },
    {
      "cell_type": "markdown",
      "source": [
        "#### Get pre-trained model"
      ],
      "metadata": {
        "id": "5UiZxC3SOWIr"
      }
    },
    {
      "cell_type": "code",
      "execution_count": null,
      "metadata": {
        "id": "SQkeb66sFsj3"
      },
      "outputs": [],
      "source": [
        "model = vgg19(weights='DEFAULT')"
      ]
    },
    {
      "cell_type": "markdown",
      "source": [
        "#### Adjust classifiers last layers out_features because we have 15 classes instead of 1000"
      ],
      "metadata": {
        "id": "bt-oq_UeOHsM"
      }
    },
    {
      "cell_type": "code",
      "execution_count": null,
      "metadata": {
        "colab": {
          "base_uri": "https://localhost:8080/"
        },
        "id": "ix79vpS5FwVP",
        "outputId": "ea282848-439e-4738-bb70-0dcee0e717d0"
      },
      "outputs": [
        {
          "output_type": "execute_result",
          "data": {
            "text/plain": [
              "Sequential(\n",
              "  (0): Linear(in_features=25088, out_features=4096, bias=True)\n",
              "  (1): ReLU(inplace=True)\n",
              "  (2): Dropout(p=0.5, inplace=False)\n",
              "  (3): Linear(in_features=4096, out_features=4096, bias=True)\n",
              "  (4): ReLU(inplace=True)\n",
              "  (5): Dropout(p=0.5, inplace=False)\n",
              "  (6): Linear(in_features=4096, out_features=1000, bias=True)\n",
              ")"
            ]
          },
          "metadata": {},
          "execution_count": 119
        }
      ],
      "source": [
        "model.classifier"
      ]
    },
    {
      "cell_type": "code",
      "execution_count": null,
      "metadata": {
        "id": "fjxJc7dPF1qY"
      },
      "outputs": [],
      "source": [
        "model.classifier[6] = nn.Linear(4096, 15)"
      ]
    },
    {
      "cell_type": "markdown",
      "source": [
        "#### More Hyperparameters"
      ],
      "metadata": {
        "id": "iJhF9F-tOSHp"
      }
    },
    {
      "cell_type": "code",
      "execution_count": null,
      "metadata": {
        "id": "mBXLcma6Gg_C"
      },
      "outputs": [],
      "source": [
        "# Set Loss function with criterion\n",
        "criterion = nn.CrossEntropyLoss()\n",
        "\n",
        "# Set optimizer with optimizer\n",
        "optimizer = torch.optim.SGD(model.parameters(), lr=0.001, weight_decay = 0.005, momentum = 0.9)  \n",
        "\n",
        "total_step = len(train_loader)"
      ]
    },
    {
      "cell_type": "markdown",
      "source": [
        "#### Move model to GPU (CUDA)"
      ],
      "metadata": {
        "id": "27FUIen0N-IO"
      }
    },
    {
      "cell_type": "code",
      "execution_count": null,
      "metadata": {
        "id": "ksbUOSvAGeql"
      },
      "outputs": [],
      "source": [
        "model = model.to(device)"
      ]
    },
    {
      "cell_type": "markdown",
      "source": [
        "#### Keep track of training process in these variables"
      ],
      "metadata": {
        "id": "FePZ83BXOBao"
      }
    },
    {
      "cell_type": "code",
      "execution_count": null,
      "metadata": {
        "id": "Zx6OQLAMGjkJ"
      },
      "outputs": [],
      "source": [
        "train_losses_1 = []\n",
        "train_accuracies_1 = []\n",
        "val_losses_1 = []\n",
        "val_accuracies_1 = [] "
      ]
    },
    {
      "cell_type": "markdown",
      "source": [
        "#### Training Pipeline"
      ],
      "metadata": {
        "id": "aP_xn242N7UR"
      }
    },
    {
      "cell_type": "code",
      "execution_count": null,
      "metadata": {
        "colab": {
          "base_uri": "https://localhost:8080/"
        },
        "id": "De4hI2GYGj71",
        "outputId": "95fef1b1-613f-4c54-e719-87f3afb70907"
      },
      "outputs": [
        {
          "output_type": "stream",
          "name": "stdout",
          "text": [
            "Epoch [0/29] train Loss: 0.3565 Acc: 0.8927 validation Loss: 0.0510 Acc: 0.9850 Saved Accuracy: 0.0\n",
            "Epoch [1/29] train Loss: 0.0458 Acc: 0.9856 validation Loss: 0.0295 Acc: 0.9930 Saved Accuracy: 0.0\n",
            "Epoch [2/29] train Loss: 0.0258 Acc: 0.9926 validation Loss: 0.0198 Acc: 0.9937 Saved Accuracy: 0.0\n",
            "Epoch [3/29] train Loss: 0.0083 Acc: 0.9972 validation Loss: 0.0238 Acc: 0.9930 Saved Accuracy: 0.0\n",
            "Epoch [4/29] train Loss: 0.0035 Acc: 0.9990 validation Loss: 0.0104 Acc: 0.9973 Saved Accuracy: 0.9973333333333333\n",
            "Epoch [5/29] train Loss: 0.0013 Acc: 0.9999 validation Loss: 0.0120 Acc: 0.9967 Saved Accuracy: 0.9973333333333333\n",
            "Epoch [6/29] train Loss: 0.0011 Acc: 0.9999 validation Loss: 0.0103 Acc: 0.9970 Saved Accuracy: 0.9973333333333333\n",
            "Epoch [7/29] train Loss: 0.0010 Acc: 0.9999 validation Loss: 0.0099 Acc: 0.9970 Saved Accuracy: 0.9973333333333333\n",
            "Epoch [8/29] train Loss: 0.0010 Acc: 0.9999 validation Loss: 0.0097 Acc: 0.9977 Saved Accuracy: 0.9973333333333333\n",
            "Epoch [9/29] train Loss: 0.0010 Acc: 1.0000 validation Loss: 0.0101 Acc: 0.9967 \n",
            "Early Stopping!\n",
            "Saved Accuracy: 0.9973333333333333\n",
            "Training complete in 12m 45s\n",
            "Best validation Acc: 0.997333\n"
          ]
        },
        {
          "output_type": "execute_result",
          "data": {
            "text/plain": [
              "<All keys matched successfully>"
            ]
          },
          "metadata": {},
          "execution_count": 124
        }
      ],
      "source": [
        "since = time.time()\n",
        "early_stopping_patience = 5\n",
        "early_stopping = False\n",
        "scheduler = lr_scheduler.StepLR(optimizer, step_size=7, gamma=0.1)\n",
        "best_acc = torch.tensor([0.0]).cuda()\n",
        "\n",
        "# Main training loop\n",
        "\n",
        "for epoch in range(num_epochs):\n",
        "    if early_stopping:\n",
        "      break;\n",
        "    print('Epoch [{}/{}]'.format(epoch, num_epochs - 1), end=\" \")\n",
        "\n",
        "    # Each epoch has a training and a validation phase\n",
        "\n",
        "    for phase in ['train', 'validation']:\n",
        "        if phase == 'train':\n",
        "            model.train() # If phase train train model\n",
        "        else:\n",
        "            model.eval() # If not evaluate model\n",
        "        running_loss = 0.0\n",
        "        running_corrects = 0\n",
        "        # For each input and label:\n",
        "        for inputs, labels in dataloaders[phase]:\n",
        "            inputs = inputs.to(device)\n",
        "            labels = labels.to(device)\n",
        "            # Feed Forward\n",
        "            with torch.set_grad_enabled(phase == 'train'):\n",
        "                outputs = model(inputs)\n",
        "                _, preds = torch.max(outputs, 1)\n",
        "                loss = criterion(outputs, labels)\n",
        "                # Backpropogate\n",
        "                if phase == 'train':\n",
        "                    optimizer.zero_grad()\n",
        "                    loss.backward()\n",
        "                    optimizer.step()\n",
        "            # Calculations\n",
        "            running_loss += loss.item() * inputs.size(0)\n",
        "            running_corrects += torch.sum(preds == labels.data)\n",
        "        if phase == 'train':\n",
        "            scheduler.step()\n",
        "        epoch_loss = running_loss / dataset_sizes[phase]\n",
        "        epoch_acc = running_corrects.double() / dataset_sizes[phase]\n",
        "        if phase == 'train':\n",
        "            train_losses_1.append(epoch_loss)\n",
        "            train_accuracies_1.append(epoch_acc.item())\n",
        "        if phase == 'validation':\n",
        "            val_losses_1.append(epoch_loss)\n",
        "            val_accuracies_1.append(epoch_acc.item())\n",
        "        print('{} Loss: {:.4f} Acc: {:.4f}'.format(\n",
        "            phase, epoch_loss, epoch_acc), end=\" \")\n",
        "        if phase == 'validation' and epoch_acc > best_acc and (epoch+1)%early_stopping_patience==0:\n",
        "            best_acc = epoch_acc\n",
        "            best_model_wts = copy.deepcopy(model.state_dict())\n",
        "        elif phase == 'validation' and epoch_acc <= best_acc and (epoch+1)%early_stopping_patience==0:\n",
        "            print()\n",
        "            print(\"Early Stopping!\")\n",
        "            early_stopping = True\n",
        "    print('Saved Accuracy:', best_acc.item())\n",
        "time_elapsed = time.time() - since\n",
        "print('Training complete in {:.0f}m {:.0f}s'.format(\n",
        "    time_elapsed // 60, time_elapsed % 60))\n",
        "print('Best validation Acc: {:4f}'.format(best_acc))\n",
        "model.load_state_dict(best_model_wts)"
      ]
    },
    {
      "cell_type": "markdown",
      "source": [
        "#### Get predictions by model using test_data"
      ],
      "metadata": {
        "id": "hTfi5-GBOhNA"
      }
    },
    {
      "cell_type": "code",
      "execution_count": null,
      "metadata": {
        "id": "1vmgaMqKHC-U"
      },
      "outputs": [],
      "source": [
        "# Get predictions over test data;\n",
        "\n",
        "y_pred_1 = []\n",
        "y_true_1 = []\n",
        "\n",
        "model.eval()\n",
        "\n",
        "for inputs, labels in test_loader:\n",
        "\n",
        "    inputs = inputs.to(device)\n",
        "    labels = labels.to(device)\n",
        "\n",
        "    output = model(inputs) # Feed Network\n",
        "\n",
        "    output = (torch.max(torch.exp(output), 1)[1]).data.cpu().numpy()\n",
        "    y_pred_1.extend(output) # Save Prediction\n",
        "\n",
        "    labels = labels.data.cpu().numpy()\n",
        "    y_true_1.extend(labels) # Save Truth"
      ]
    },
    {
      "cell_type": "markdown",
      "metadata": {
        "id": "QIbsS62iFWE1"
      },
      "source": [
        "## Fine Tuning Only FC1 and FC2"
      ]
    },
    {
      "cell_type": "markdown",
      "source": [
        "#### Get Model"
      ],
      "metadata": {
        "id": "4jqJOKoLOqfR"
      }
    },
    {
      "cell_type": "code",
      "execution_count": null,
      "metadata": {
        "id": "ztCJynbQ7zWS"
      },
      "outputs": [],
      "source": [
        "model = vgg19(weights='DEFAULT')"
      ]
    },
    {
      "cell_type": "markdown",
      "source": [
        "#### Freeze all the layers"
      ],
      "metadata": {
        "id": "z_l5rExdOsZ7"
      }
    },
    {
      "cell_type": "code",
      "execution_count": null,
      "metadata": {
        "id": "C-O0mswa71Cj"
      },
      "outputs": [],
      "source": [
        "for param in model.parameters():\n",
        "    param.requires_grad = False"
      ]
    },
    {
      "cell_type": "markdown",
      "source": [
        "#### Re-initialize classifier because it includes FC1 and FC2, also we need to change out_features"
      ],
      "metadata": {
        "id": "NYaJCEZPOw8z"
      }
    },
    {
      "cell_type": "code",
      "execution_count": null,
      "metadata": {
        "colab": {
          "base_uri": "https://localhost:8080/"
        },
        "id": "332gcLn_725o",
        "outputId": "7264b0a0-f32e-4f2e-cb30-ff404b2a4c70"
      },
      "outputs": [
        {
          "output_type": "execute_result",
          "data": {
            "text/plain": [
              "Sequential(\n",
              "  (0): Linear(in_features=25088, out_features=4096, bias=True)\n",
              "  (1): ReLU(inplace=True)\n",
              "  (2): Dropout(p=0.5, inplace=False)\n",
              "  (3): Linear(in_features=4096, out_features=4096, bias=True)\n",
              "  (4): ReLU(inplace=True)\n",
              "  (5): Dropout(p=0.5, inplace=False)\n",
              "  (6): Linear(in_features=4096, out_features=1000, bias=True)\n",
              ")"
            ]
          },
          "metadata": {},
          "execution_count": 151
        }
      ],
      "source": [
        "model.classifier"
      ]
    },
    {
      "cell_type": "code",
      "execution_count": null,
      "metadata": {
        "id": "bypiBAqvEd34"
      },
      "outputs": [],
      "source": [
        "model.classifier = nn.Sequential(nn.Linear(in_features=25088, out_features=4096, bias=True),\n",
        " nn.ReLU(inplace=True),\n",
        " nn.Dropout(p=0.5, inplace=False),\n",
        " nn.Linear(in_features=4096, out_features=4096, bias=True),\n",
        " nn.ReLU(inplace=True),\n",
        " nn.Dropout(p=0.5, inplace=False),\n",
        " nn.Linear(in_features=4096, out_features=15, bias=True))"
      ]
    },
    {
      "cell_type": "markdown",
      "source": [
        "#### Hyperparameters"
      ],
      "metadata": {
        "id": "eGDbbDk2UlXl"
      }
    },
    {
      "cell_type": "code",
      "execution_count": null,
      "metadata": {
        "id": "Q8dzdQ5T8MX7"
      },
      "outputs": [],
      "source": [
        "# Set Loss function with criterion\n",
        "criterion = nn.CrossEntropyLoss()\n",
        "\n",
        "# Set optimizer with optimizer\n",
        "optimizer = torch.optim.SGD(model.parameters(), lr=0.001, weight_decay = 0.005, momentum = 0.9)  \n",
        "\n",
        "total_step = len(train_loader)"
      ]
    },
    {
      "cell_type": "markdown",
      "source": [
        "#### Send model to GPU"
      ],
      "metadata": {
        "id": "ZpvV8VCdUh80"
      }
    },
    {
      "cell_type": "code",
      "execution_count": null,
      "metadata": {
        "id": "Jtdt44u59SUt"
      },
      "outputs": [],
      "source": [
        "model = model.to(device)"
      ]
    },
    {
      "cell_type": "markdown",
      "source": [
        "#### To be able to visualize training process later"
      ],
      "metadata": {
        "id": "vBi0IGcTUcBq"
      }
    },
    {
      "cell_type": "code",
      "execution_count": null,
      "metadata": {
        "id": "mi4Sy-zWyQFE"
      },
      "outputs": [],
      "source": [
        "train_losses_2 = []\n",
        "train_accuracies_2 = []\n",
        "val_losses_2 = []\n",
        "val_accuracies_2 = [] "
      ]
    },
    {
      "cell_type": "markdown",
      "source": [
        "#### Training Pipeline"
      ],
      "metadata": {
        "id": "UCT-ZgTgUUy5"
      }
    },
    {
      "cell_type": "code",
      "execution_count": null,
      "metadata": {
        "colab": {
          "base_uri": "https://localhost:8080/"
        },
        "id": "qTlYBdGBDwJO",
        "outputId": "2aa32165-bf4d-4685-d62f-3878da54b475"
      },
      "outputs": [
        {
          "output_type": "stream",
          "name": "stdout",
          "text": [
            "Epoch [0/29] train Loss: 0.8762 Acc: 0.7341 validation Loss: 0.4155 Acc: 0.8767 Saved Accuracy: 0.0\n",
            "Epoch [1/29] train Loss: 0.4104 Acc: 0.8685 validation Loss: 0.3521 Acc: 0.8873 Saved Accuracy: 0.0\n",
            "Epoch [2/29] train Loss: 0.2989 Acc: 0.9063 validation Loss: 0.2480 Acc: 0.9203 Saved Accuracy: 0.0\n",
            "Epoch [3/29] train Loss: 0.2406 Acc: 0.9203 validation Loss: 0.2184 Acc: 0.9310 Saved Accuracy: 0.0\n",
            "Epoch [4/29] train Loss: 0.1990 Acc: 0.9349 validation Loss: 0.1966 Acc: 0.9363 Saved Accuracy: 0.9363333333333334\n",
            "Epoch [5/29] train Loss: 0.1736 Acc: 0.9441 validation Loss: 0.1821 Acc: 0.9407 Saved Accuracy: 0.9363333333333334\n",
            "Epoch [6/29] train Loss: 0.1489 Acc: 0.9513 validation Loss: 0.1726 Acc: 0.9480 Saved Accuracy: 0.9363333333333334\n",
            "Epoch [7/29] train Loss: 0.1067 Acc: 0.9675 validation Loss: 0.1481 Acc: 0.9543 Saved Accuracy: 0.9363333333333334\n",
            "Epoch [8/29] train Loss: 0.0972 Acc: 0.9708 validation Loss: 0.1451 Acc: 0.9573 Saved Accuracy: 0.9363333333333334\n",
            "Epoch [9/29] train Loss: 0.0846 Acc: 0.9759 validation Loss: 0.1413 Acc: 0.9567 Saved Accuracy: 0.9566666666666667\n",
            "Epoch [10/29] train Loss: 0.0829 Acc: 0.9758 validation Loss: 0.1408 Acc: 0.9570 Saved Accuracy: 0.9566666666666667\n",
            "Epoch [11/29] train Loss: 0.0816 Acc: 0.9774 validation Loss: 0.1412 Acc: 0.9580 Saved Accuracy: 0.9566666666666667\n",
            "Epoch [12/29] train Loss: 0.0752 Acc: 0.9792 validation Loss: 0.1387 Acc: 0.9570 Saved Accuracy: 0.9566666666666667\n",
            "Epoch [13/29] train Loss: 0.0713 Acc: 0.9807 validation Loss: 0.1367 Acc: 0.9593 Saved Accuracy: 0.9566666666666667\n",
            "Epoch [14/29] train Loss: 0.0706 Acc: 0.9797 validation Loss: 0.1364 Acc: 0.9597 Saved Accuracy: 0.9596666666666667\n",
            "Epoch [15/29] train Loss: 0.0688 Acc: 0.9811 validation Loss: 0.1364 Acc: 0.9597 Saved Accuracy: 0.9596666666666667\n",
            "Epoch [16/29] train Loss: 0.0703 Acc: 0.9815 validation Loss: 0.1366 Acc: 0.9593 Saved Accuracy: 0.9596666666666667\n",
            "Epoch [17/29] train Loss: 0.0706 Acc: 0.9801 validation Loss: 0.1365 Acc: 0.9597 Saved Accuracy: 0.9596666666666667\n",
            "Epoch [18/29] train Loss: 0.0699 Acc: 0.9812 validation Loss: 0.1361 Acc: 0.9600 Saved Accuracy: 0.9596666666666667\n",
            "Epoch [19/29] train Loss: 0.0672 Acc: 0.9831 validation Loss: 0.1362 Acc: 0.9593 \n",
            "Early Stopping!\n",
            "Saved Accuracy: 0.9596666666666667\n",
            "Training complete in 18m 52s\n",
            "Best validation Acc: 0.959667\n"
          ]
        },
        {
          "output_type": "execute_result",
          "data": {
            "text/plain": [
              "<All keys matched successfully>"
            ]
          },
          "metadata": {},
          "execution_count": 156
        }
      ],
      "source": [
        "since = time.time()\n",
        "scheduler = lr_scheduler.StepLR(optimizer, step_size=7, gamma=0.1)\n",
        "best_acc = torch.tensor([0.0]).cuda()\n",
        "early_stopping = False\n",
        "early_stopping_patience = 5\n",
        "\n",
        "# Main training loop\n",
        "\n",
        "for epoch in range(num_epochs):\n",
        "    if early_stopping:\n",
        "      break;\n",
        "    print('Epoch [{}/{}]'.format(epoch, num_epochs - 1), end=\" \")\n",
        "\n",
        "    # Each epoch has a training and a validation phase\n",
        "    \n",
        "    for phase in ['train', 'validation']:\n",
        "        if phase == 'train':\n",
        "            model.train()  # Train model if phase train\n",
        "        else:\n",
        "            model.eval()   # Evaluate model if phase not train\n",
        "        running_loss = 0.0\n",
        "        running_corrects = 0\n",
        "\n",
        "        # Iterate over data.\n",
        "        \n",
        "        for inputs, labels in dataloaders[phase]:\n",
        "            inputs = inputs.to(device)\n",
        "            labels = labels.to(device)\n",
        "\n",
        "            # Feed Forward.\n",
        "\n",
        "            with torch.set_grad_enabled(phase == 'train'):\n",
        "                outputs = model(inputs)\n",
        "                _, preds = torch.max(outputs, 1)\n",
        "                loss = criterion(outputs, labels)\n",
        "\n",
        "                # Back Propagate.\n",
        "\n",
        "                if phase == 'train':\n",
        "                    optimizer.zero_grad()\n",
        "                    loss.backward()\n",
        "                    optimizer.step()\n",
        "            running_loss += loss.item() * inputs.size(0)\n",
        "            running_corrects += torch.sum(preds == labels.data)\n",
        "        if phase == 'train':\n",
        "            scheduler.step()\n",
        "        epoch_loss = running_loss / dataset_sizes[phase]\n",
        "        epoch_acc = running_corrects.double() / dataset_sizes[phase]\n",
        "        if phase == 'train':\n",
        "            train_losses_2.append(epoch_loss)\n",
        "            train_accuracies_2.append(epoch_acc.item())\n",
        "        if phase == 'validation':\n",
        "            val_losses_2.append(epoch_loss)\n",
        "            val_accuracies_2.append(epoch_acc.item())\n",
        "        print('{} Loss: {:.4f} Acc: {:.4f}'.format(\n",
        "            phase, epoch_loss, epoch_acc), end=\" \")\n",
        "        if phase == 'validation' and epoch_acc > best_acc and (epoch+1)%early_stopping_patience==0:\n",
        "            best_acc = epoch_acc\n",
        "            best_model_wts = copy.deepcopy(model.state_dict())\n",
        "        elif phase == 'validation' and epoch_acc <= best_acc and (epoch+1)%early_stopping_patience==0:\n",
        "            print()\n",
        "            print(\"Early Stopping!\")\n",
        "            early_stopping = True\n",
        "    print(\"Saved Accuracy:\", best_acc.item())\n",
        "time_elapsed = time.time() - since\n",
        "print('Training complete in {:.0f}m {:.0f}s'.format(\n",
        "    time_elapsed // 60, time_elapsed % 60))\n",
        "print('Best validation Acc: {:4f}'.format(best_acc))\n",
        "model.load_state_dict(best_model_wts)"
      ]
    },
    {
      "cell_type": "markdown",
      "source": [
        "#### Make trained model predict new images from test set"
      ],
      "metadata": {
        "id": "5BW1zQoXThM0"
      }
    },
    {
      "cell_type": "code",
      "execution_count": null,
      "metadata": {
        "id": "8zJR088wW_FA"
      },
      "outputs": [],
      "source": [
        "# Get predictions over test data;\n",
        "\n",
        "y_pred_2 = []\n",
        "y_true_2 = []\n",
        "\n",
        "model.eval()\n",
        "\n",
        "for inputs, labels in test_loader:\n",
        "\n",
        "    inputs = inputs.to(device)\n",
        "    labels = labels.to(device)\n",
        "\n",
        "    output = model(inputs) # Feed Network\n",
        "\n",
        "    output = (torch.max(torch.exp(output), 1)[1]).data.cpu().numpy()\n",
        "    y_pred_2.extend(output) # Save Prediction\n",
        "\n",
        "    labels = labels.data.cpu().numpy()\n",
        "    y_true_2.extend(labels) # Save Truth"
      ]
    },
    {
      "cell_type": "markdown",
      "metadata": {
        "id": "k60ItdkBDhf2"
      },
      "source": [
        "## Evaluation"
      ]
    },
    {
      "cell_type": "code",
      "execution_count": null,
      "metadata": {
        "colab": {
          "base_uri": "https://localhost:8080/"
        },
        "id": "Tq3CWIIh0wFW",
        "outputId": "24638c11-2187-4f83-c790-4df20f9ab5f1"
      },
      "outputs": [
        {
          "output_type": "stream",
          "name": "stdout",
          "text": [
            "[0.35653260055445135, 0.04579086263198406, 0.025750282087735832, 0.008338344221267228, 0.0034721516946408276, 0.0012897077823717457, 0.0011484865702145422, 0.0010024164977638671, 0.001026503862370737, 0.0010042139626534965]\n",
            "[0.8927333333333334, 0.9856, 0.9926, 0.9972000000000001, 0.999, 0.9998666666666667, 0.9999333333333333, 0.9999333333333333, 0.9999333333333333, 1.0]\n",
            "[0.051027761505916716, 0.029470740125204127, 0.019774997272528707, 0.0237939129145816, 0.01040407517158504, 0.012016305108942712, 0.010258030708219545, 0.009883971715035538, 0.009685723060625605, 0.010067992743027086]\n",
            "[0.985, 0.993, 0.9936666666666666, 0.993, 0.9973333333333333, 0.9966666666666666, 0.997, 0.997, 0.9976666666666666, 0.9966666666666666]\n",
            "[0.8762479480743408, 0.4104421940088272, 0.29892234426339465, 0.2405753971497218, 0.19895941603183748, 0.1735558369040489, 0.1488652293930451, 0.106709345159928, 0.09717722201744715, 0.0846477432479461, 0.08291826803485552, 0.08156183984627326, 0.07517212059994538, 0.07131635768214861, 0.07057588738799095, 0.06877037831644217, 0.0703176353548964, 0.07061521877646446, 0.06987304660280545, 0.06724874152342479]\n",
            "[0.7341333333333334, 0.8685333333333334, 0.9062666666666667, 0.9202666666666667, 0.9348666666666667, 0.9441333333333334, 0.9513333333333334, 0.9674666666666667, 0.9708, 0.9759333333333334, 0.9758, 0.9774, 0.9792000000000001, 0.9806666666666667, 0.9796666666666667, 0.9811333333333334, 0.9815333333333334, 0.9801333333333334, 0.9812000000000001, 0.9831333333333334]\n",
            "[0.415470649878184, 0.3521124934355418, 0.24802968486150107, 0.21836680658658345, 0.19657312629620236, 0.18212964024146397, 0.17258364121119182, 0.14813740780452886, 0.14509067246317864, 0.1412847033639749, 0.14075811362018187, 0.14123225873708725, 0.13866263041893642, 0.13665268986920515, 0.1364479257663091, 0.13642550833026568, 0.13657288919885954, 0.1365230958685279, 0.13613001941144467, 0.13622130978107452]\n",
            "[0.8766666666666666, 0.8873333333333333, 0.9203333333333333, 0.9309999999999999, 0.9363333333333334, 0.9406666666666667, 0.948, 0.9543333333333333, 0.9573333333333333, 0.9566666666666667, 0.957, 0.958, 0.957, 0.9593333333333333, 0.9596666666666667, 0.9596666666666667, 0.9593333333333333, 0.9596666666666667, 0.96, 0.9593333333333333]\n"
          ]
        }
      ],
      "source": [
        "print(train_losses_1)\n",
        "print(train_accuracies_1)\n",
        "print(val_losses_1)\n",
        "print(val_accuracies_1)\n",
        "print(train_losses_2)\n",
        "print(train_accuracies_2)\n",
        "print(val_losses_2)\n",
        "print(val_accuracies_2)"
      ]
    },
    {
      "cell_type": "code",
      "execution_count": null,
      "metadata": {
        "colab": {
          "base_uri": "https://localhost:8080/",
          "height": 517
        },
        "id": "Q8OK-uAb1gDF",
        "outputId": "7ae896ca-98f5-4e6b-850c-fccb8385ed3b"
      },
      "outputs": [
        {
          "output_type": "execute_result",
          "data": {
            "text/plain": [
              "Text(0.5, 1.0, 'Part 2.1 Model Training Process')"
            ]
          },
          "metadata": {},
          "execution_count": 168
        },
        {
          "output_type": "display_data",
          "data": {
            "text/plain": [
              "<Figure size 864x576 with 1 Axes>"
            ],
            "image/png": "[encoded data removed]"
          },
          "metadata": {
            "needs_background": "light"
          }
        }
      ],
      "source": [
        "plt.figure(figsize=(12,8))\n",
        "plt.plot(train_accuracies_1)\n",
        "plt.plot(val_accuracies_1)\n",
        "plt.plot(train_losses_1)\n",
        "plt.plot(val_losses_1)\n",
        "plt.legend(['Train Accuracies', 'Validation Accuracies', 'Train Loss', 'Validation Loss'], loc=\"center right\")\n",
        "plt.title('Part 2.1 Model Training Process')"
      ]
    },
    {
      "cell_type": "code",
      "source": [
        "plt.figure(figsize=(12,8))\n",
        "plt.plot(train_accuracies_2)\n",
        "plt.plot(val_accuracies_2)\n",
        "plt.plot(train_losses_2)\n",
        "plt.plot(val_losses_2)\n",
        "plt.legend(['Train Accuracies', 'Validation Accuracies', 'Train Loss', 'Validation Loss'], loc='center right')\n",
        "plt.title('Part 2.2 Model Training Process')"
      ],
      "metadata": {
        "colab": {
          "base_uri": "https://localhost:8080/",
          "height": 517
        },
        "id": "AW6AsNcMQeRI",
        "outputId": "20f9ee01-08e0-479d-bf88-1b48c1f0587f"
      },
      "execution_count": null,
      "outputs": [
        {
          "output_type": "execute_result",
          "data": {
            "text/plain": [
              "Text(0.5, 1.0, 'Part 2.2 Model Training Process')"
            ]
          },
          "metadata": {},
          "execution_count": 166
        },
        {
          "output_type": "display_data",
          "data": {
            "text/plain": [
              "<Figure size 864x576 with 1 Axes>"
            ],
            "image/png": "[encoded data removed]"
          },
          "metadata": {
            "needs_background": "light"
          }
        }
      ]
    },
    {
      "cell_type": "code",
      "execution_count": null,
      "metadata": {
        "colab": {
          "base_uri": "https://localhost:8080/",
          "height": 572
        },
        "id": "y6xLgx8x0S-W",
        "outputId": "d41d893b-ddd0-4f9c-936b-ad991e0784f7"
      },
      "outputs": [
        {
          "output_type": "execute_result",
          "data": {
            "text/plain": [
              "<matplotlib.axes._subplots.AxesSubplot at 0x7f9bed660a30>"
            ]
          },
          "metadata": {},
          "execution_count": 169
        },
        {
          "output_type": "display_data",
          "data": {
            "text/plain": [
              "<Figure size 864x576 with 2 Axes>"
            ],
            "image/png": "[encoded data removed]"
          },
          "metadata": {
            "needs_background": "light"
          }
        }
      ],
      "source": [
        "plt.figure(figsize=(12,8))\n",
        "plt.title('Confusion Matrix of Part 2.1')\n",
        "sns.heatmap(confusion_matrix(y_pred_1, y_true_1), annot=True, xticklabels=class_names, yticklabels=class_names)"
      ]
    },
    {
      "cell_type": "code",
      "source": [
        "plt.figure(figsize=(12,8))\n",
        "plt.title('Confusion Matrix of Part 2.2')\n",
        "sns.heatmap(confusion_matrix(y_pred_2, y_true_2), annot=True, xticklabels=class_names, yticklabels=class_names)"
      ],
      "metadata": {
        "colab": {
          "base_uri": "https://localhost:8080/",
          "height": 572
        },
        "id": "7tX5BEAFQkeh",
        "outputId": "d8dc4c50-cf49-42b5-accb-83e8232d5981"
      },
      "execution_count": null,
      "outputs": [
        {
          "output_type": "execute_result",
          "data": {
            "text/plain": [
              "<matplotlib.axes._subplots.AxesSubplot at 0x7f9bed6525e0>"
            ]
          },
          "metadata": {},
          "execution_count": 171
        },
        {
          "output_type": "display_data",
          "data": {
            "text/plain": [
              "<Figure size 864x576 with 2 Axes>"
            ],
            "image/png": "[encoded data removed]"
          },
          "metadata": {
            "needs_background": "light"
          }
        }
      ]
    },
    {
      "cell_type": "code",
      "source": [
        "print(\"Classification Report of Part 2.1 (Whole Model)\\n\")\n",
        "print(classification_report(y_true_1,y_pred_1))"
      ],
      "metadata": {
        "colab": {
          "base_uri": "https://localhost:8080/"
        },
        "id": "K6kqueWn0FkP",
        "outputId": "01c69b5b-73a2-4ac3-cc28-94781c45b763"
      },
      "execution_count": null,
      "outputs": [
        {
          "output_type": "stream",
          "name": "stdout",
          "text": [
            "Classification Report of Part 2.1 (Whole Model)\n",
            "\n",
            "              precision    recall  f1-score   support\n",
            "\n",
            "           0       1.00      1.00      1.00       200\n",
            "           1       1.00      0.99      0.99       200\n",
            "           2       1.00      1.00      1.00       200\n",
            "           3       1.00      1.00      1.00       200\n",
            "           4       0.99      0.99      0.99       200\n",
            "           5       1.00      0.99      0.99       200\n",
            "           6       1.00      1.00      1.00       200\n",
            "           7       1.00      1.00      1.00       200\n",
            "           8       0.99      1.00      1.00       200\n",
            "           9       1.00      1.00      1.00       200\n",
            "          10       1.00      1.00      1.00       200\n",
            "          11       1.00      1.00      1.00       200\n",
            "          12       0.99      0.99      0.99       200\n",
            "          13       0.99      0.99      0.99       200\n",
            "          14       0.99      0.99      0.99       200\n",
            "\n",
            "    accuracy                           1.00      3000\n",
            "   macro avg       1.00      1.00      1.00      3000\n",
            "weighted avg       1.00      1.00      1.00      3000\n",
            "\n"
          ]
        }
      ]
    },
    {
      "cell_type": "code",
      "source": [
        "print(\"Classification Report of Part 2.2 (Only FC1 and FC2)\\n\")\n",
        "print(classification_report(y_true_2,y_pred_2))"
      ],
      "metadata": {
        "colab": {
          "base_uri": "https://localhost:8080/"
        },
        "id": "WiFTl8Z10IwQ",
        "outputId": "9884a06f-cd88-4362-8d35-e5c40fad8ee5"
      },
      "execution_count": null,
      "outputs": [
        {
          "output_type": "stream",
          "name": "stdout",
          "text": [
            "Classification Report of Part 2.2 (Only FC1 and FC2)\n",
            "\n",
            "              precision    recall  f1-score   support\n",
            "\n",
            "           0       0.95      0.96      0.96       200\n",
            "           1       0.94      0.93      0.93       200\n",
            "           2       0.98      0.99      0.98       200\n",
            "           3       0.92      0.93      0.92       200\n",
            "           4       0.93      0.94      0.94       200\n",
            "           5       0.95      0.95      0.95       200\n",
            "           6       0.99      0.97      0.98       200\n",
            "           7       0.99      0.99      0.99       200\n",
            "           8       0.95      0.95      0.95       200\n",
            "           9       0.95      0.97      0.96       200\n",
            "          10       0.95      0.96      0.95       200\n",
            "          11       0.99      0.99      0.99       200\n",
            "          12       0.97      0.94      0.95       200\n",
            "          13       0.98      0.98      0.98       200\n",
            "          14       0.99      0.94      0.97       200\n",
            "\n",
            "    accuracy                           0.96      3000\n",
            "   macro avg       0.96      0.96      0.96      3000\n",
            "weighted avg       0.96      0.96      0.96      3000\n",
            "\n"
          ]
        }
      ]
    }
  ],
  "metadata": {
    "colab": {
      "collapsed_sections": [
        "uE6ZRBXYI2wr",
        "ORMs40vhIk7l",
        "x_LDb7vQ6oEd",
        "IR2jeRSDFjDB",
        "wQZJyn_JG5KH",
        "o07GhXvcOLaE",
        "SFKBlSYcPGJk",
        "5K4viOapTG0n",
        "4EyrZ450yFAE",
        "YA8kedxetetT",
        "5UiZxC3SOWIr",
        "bt-oq_UeOHsM",
        "iJhF9F-tOSHp",
        "27FUIen0N-IO",
        "FePZ83BXOBao",
        "aP_xn242N7UR",
        "hTfi5-GBOhNA",
        "QIbsS62iFWE1",
        "4jqJOKoLOqfR",
        "z_l5rExdOsZ7",
        "NYaJCEZPOw8z",
        "eGDbbDk2UlXl",
        "ZpvV8VCdUh80",
        "vBi0IGcTUcBq",
        "UCT-ZgTgUUy5",
        "5BW1zQoXThM0"
      ],
      "provenance": [],
      "include_colab_link": true
    },
    "kernelspec": {
      "display_name": "Python 3",
      "language": "python",
      "name": "python3"
    },
    "language_info": {
      "name": "python",
      "version": "3.10.7 (main, Sep 14 2022, 22:38:23) [Clang 14.0.0 (clang-1400.0.29.102)]"
    },
    "vscode": {
      "interpreter": {
        "hash": "bd385fe162c5ca0c84973b7dd5c518456272446b2b64e67c2a69f949ca7a1754"
      }
    },
    "accelerator": "GPU",
    "gpuClass": "standard"
  },
  "nbformat": 4,
  "nbformat_minor": 0
}
